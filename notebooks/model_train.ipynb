{
 "cells": [
  {
   "cell_type": "markdown",
   "id": "b5bd66ee",
   "metadata": {},
   "source": [
    "# Model Training – Fraud Detection\n",
    "\n",
    "This notebook trains and evaluates machine learning models to detect fraudulent transactions using the processed datasets from transform.ipynb. The goal is to test multiple classification models, optimize their performance, and identify the one that best detects rare fraud cases.\n",
    "\n",
    "**Objectives:**\n",
    "- Confirm the task type (binary classification) and load the balanced datasets (Random Oversampling and SMOTE)\n",
    "\n",
    "- Split the data into training and testing sets.\n",
    "\n",
    "- Train and evaluate three machine learning models:\n",
    "\n",
    "    - Logistic Regression\n",
    "    - Random Forest\n",
    "    - Gradient Boosting \n",
    "\n",
    "- Use GridSearchCV or RandomizedSearchCV to tune hyperparameters for each model\n",
    "\n",
    "- Compare models using accuracy, precision, recall, F1-score, and sensitivity to fraud cases.\n",
    "\n",
    "- Select the best-performing model to use in future predictions."
   ]
  },
  {
   "cell_type": "markdown",
   "id": "18b236b7",
   "metadata": {},
   "source": [
    "## Defining Models\n",
    "\n",
    "This project is framed as a classification task, not a regression task, because the goal is to predict whether a transaction is fraudulent (1) or not (0), rather than estimate a continuous value like transaction amount.\n",
    "\n",
    "The target variable isFraud contains only two possible outcomes, meaning this is a binary classification problem, not a multi-class task.\n",
    "\n",
    "Three machine learning models will be applied to capture a range of complexity and performance:\n",
    "\n",
    "- **Logistic Regression:** A fast, interpretable linear model that establishes a baseline by finding the best linear boundary to separate fraudulent and non-fraudulent transactions.\n",
    "\n",
    "- **Random Forest Classifier:** An ensemble of decision trees that captures complex, non-linear relationships, is less sensitive to scaling, and can rank features by importance.\n",
    "\n",
    "- **Gradient Boosting Classifier:** A boosting method that builds trees sequentially, each correcting the errors of the previous, often achieving strong predictive performance on imbalanced datasets.\n",
    "\n",
    "Each model will be trained and evaluated on both the Random Oversampling dataset and the SMOTE-balanced dataset to compare their effectiveness under different resampling strategies."
   ]
  },
  {
   "cell_type": "code",
   "execution_count": 3,
   "id": "23741a8f",
   "metadata": {},
   "outputs": [],
   "source": [
    "# General libraries \n",
    "import pandas as pd\n",
    "import numpy as np\n",
    "import matplotlib.pyplot as plt\n",
    "from sklearn.model_selection import train_test_split\n",
    "from sklearn.preprocessing import StandardScaler\n",
    "from sklearn.model_selection import GridSearchCV"
   ]
  },
  {
   "cell_type": "markdown",
   "id": "e3f2de59",
   "metadata": {},
   "source": [
    "## Load Data "
   ]
  },
  {
   "cell_type": "code",
   "execution_count": 4,
   "id": "5fec25af",
   "metadata": {},
   "outputs": [
    {
     "name": "stdout",
     "output_type": "stream",
     "text": [
      "Datasets loaded successfully:\n",
      "- Random Oversampled: (1997406, 13)\n",
      "- SMOTE Oversampled: (1997406, 12)\n"
     ]
    }
   ],
   "source": [
    "# Use forward slashes for cross-platform paths\n",
    "random_path = ('../data/processed_data/transactions_balanced_random.csv')\n",
    "smote_path = ('../data/processed_data/transactions_balanced_smote.csv')\n",
    "\n",
    "# Load both datasets\n",
    "balanced_random = pd.read_csv(random_path)\n",
    "balanced_smote = pd.read_csv(smote_path)\n",
    "\n",
    "print(\"Datasets loaded successfully:\")\n",
    "print(f\"- Random Oversampled: {balanced_random.shape}\")\n",
    "print(f\"- SMOTE Oversampled: {balanced_smote.shape}\")\n"
   ]
  },
  {
   "cell_type": "markdown",
   "id": "afff4429",
   "metadata": {},
   "source": [
    "## Train/Test Split and Feature Scaling\n",
    "Before training the models, the dataset is split into training (80%) and testing (20%) sets, ensuring that model evaluation is done on unseen data. After splitting, features are scaled using StandardScaler, which standardizes each feature to have a mean of 0 and a standard deviation of 1.\n",
    "\n",
    "Scaling is done:\n",
    "\n",
    "- Only on the training data (fit step) to avoid data leakage.\n",
    "\n",
    "- Applied to the test data (transform step) using the same scaler.\n",
    "\n",
    "This ensures that models sensitive to feature magnitude (like Logistic Regression and Gradient Boosting) perform correctly. Random Forest, which is scale-invariant, can still benefit from standardized inputs for consistency.\n",
    "\n",
    "Separate splits and scalers are used for:\n",
    "\n",
    "- The Random Oversampled dataset\n",
    "\n",
    "- The SMOTE-balanced dataset\n",
    "\n",
    "so each resampled version is prepared independently for modeling."
   ]
  },
  {
   "cell_type": "markdown",
   "id": "df8ba5bc",
   "metadata": {},
   "source": [
    "**Splitting**"
   ]
  },
  {
   "cell_type": "code",
   "execution_count": 5,
   "id": "8448d330",
   "metadata": {},
   "outputs": [
    {
     "name": "stdout",
     "output_type": "stream",
     "text": [
      "Random Oversampling: Train set: (1597924, 12), Test set: (399482, 12)\n",
      "SMOTE Oversampling: Train set: (1597924, 11), Test set: (399482, 11)\n"
     ]
    }
   ],
   "source": [
    "# Separate features (X) and target (y) for both datasets\n",
    "def split_features_and_target(df, target_col='isFraud'):\n",
    "    X = df.drop(columns=[target_col])\n",
    "    y = df[target_col]\n",
    "    return X, y\n",
    "\n",
    "X_random, y_random = split_features_and_target(balanced_random)\n",
    "X_smote, y_smote = split_features_and_target(balanced_smote)\n",
    "\n",
    "# Train-Test Split \n",
    "def create_train_test_splits(X, y, test_size=0.2, random_state=42):\n",
    "    return train_test_split(X, y, test_size=test_size, random_state=random_state, stratify=y)\n",
    "\n",
    "X_train_random, X_test_random, y_train_random, y_test_random = create_train_test_splits(X_random, y_random)\n",
    "X_train_smote, X_test_smote, y_train_smote, y_test_smote = create_train_test_splits(X_smote, y_smote)\n",
    "\n",
    "# Display the splits \n",
    "print(\"Random Oversampling:\", f\"Train set: {X_train_random.shape}, Test set: {X_test_random.shape}\")\n",
    "\n",
    "print(\"SMOTE Oversampling:\", f\"Train set: {X_train_smote.shape}, Test set: {X_test_smote.shape}\")\n"
   ]
  },
  {
   "cell_type": "markdown",
   "id": "2d50d50c",
   "metadata": {},
   "source": [
    "**Scaling**"
   ]
  },
  {
   "cell_type": "code",
   "execution_count": 6,
   "id": "90373691",
   "metadata": {},
   "outputs": [
    {
     "name": "stdout",
     "output_type": "stream",
     "text": [
      "Scaled Random Dataset: Train set: (1597924, 6), Test set: (399482, 6)\n",
      "Scaled SMOTE Dataset: Train set: (1597924, 6), Test set: (399482, 6)\n"
     ]
    }
   ],
   "source": [
    "# Drop any non-numeric columns before scaling \n",
    "X_train_random_num = X_train_random.select_dtypes(include=['number'])\n",
    "X_test_random_num = X_test_random.select_dtypes(include=['number'])\n",
    "\n",
    "X_train_smote_num = X_train_smote.select_dtypes(include=['number'])\n",
    "X_test_smote_num = X_test_smote.select_dtypes(include=['number'])\n",
    "\n",
    "# Initialize scalers for each dataset\n",
    "scaler_random = StandardScaler()\n",
    "scaler_smote = StandardScaler()\n",
    "\n",
    "# Fit on training data, transform train and test sets (numeric columns only)\n",
    "X_train_random_scaled = scaler_random.fit_transform(X_train_random_num)\n",
    "X_test_random_scaled = scaler_random.transform(X_test_random_num)\n",
    "\n",
    "X_train_smote_scaled = scaler_smote.fit_transform(X_train_smote_num)\n",
    "X_test_smote_scaled = scaler_smote.transform(X_test_smote_num)\n",
    "\n",
    "# Convert to DataFrames for readability (optional)\n",
    "X_train_random_scaled = pd.DataFrame(X_train_random_scaled, columns=X_train_random_num.columns, index=X_train_random_num.index)\n",
    "X_test_random_scaled = pd.DataFrame(X_test_random_scaled, columns=X_test_random_num.columns, index=X_test_random_num.index)\n",
    "\n",
    "X_train_smote_scaled = pd.DataFrame(X_train_smote_scaled, columns=X_train_smote_num.columns, index=X_train_smote_num.index)\n",
    "X_test_smote_scaled = pd.DataFrame(X_test_smote_scaled, columns=X_test_smote_num.columns, index=X_test_smote_num.index)\n",
    "\n",
    "# Confirm scaled shapes\n",
    "print(\"Scaled Random Dataset:\", f\"Train set: {X_train_random_scaled.shape}, Test set: {X_test_random_scaled.shape}\")\n",
    "print(\"Scaled SMOTE Dataset:\", f\"Train set: {X_train_smote_scaled.shape}, Test set: {X_test_smote_scaled.shape}\")\n"
   ]
  },
  {
   "cell_type": "code",
   "execution_count": 7,
   "id": "67966644",
   "metadata": {},
   "outputs": [
    {
     "name": "stdout",
     "output_type": "stream",
     "text": [
      "Final Random Dataset: Train set: (1597924, 12), Test set: (399482, 12)\n",
      "Final SMOTE Dataset: Train set: (1597924, 11), Test set: (399482, 11)\n"
     ]
    }
   ],
   "source": [
    "# Identify dummy (categorical) columns\n",
    "dummy_cols_random = X_train_random.drop(columns=X_train_random_num.columns).columns\n",
    "dummy_cols_smote = X_train_smote.drop(columns=X_train_smote_num.columns).columns\n",
    "\n",
    "# Keep the dummy columns as-is\n",
    "X_train_random_dummy = X_train_random[dummy_cols_random]\n",
    "X_test_random_dummy = X_test_random[dummy_cols_random]\n",
    "\n",
    "X_train_smote_dummy = X_train_smote[dummy_cols_smote]\n",
    "X_test_smote_dummy = X_test_smote[dummy_cols_smote]\n",
    "\n",
    "# Combine scaled numeric features with dummy variables\n",
    "X_train_random_final = pd.concat([X_train_random_scaled, X_train_random_dummy], axis=1)\n",
    "X_test_random_final = pd.concat([X_test_random_scaled, X_test_random_dummy], axis=1)\n",
    "\n",
    "X_train_smote_final = pd.concat([X_train_smote_scaled, X_train_smote_dummy], axis=1)\n",
    "X_test_smote_final = pd.concat([X_test_smote_scaled, X_test_smote_dummy], axis=1)\n",
    "\n",
    "# Confirm final shapes\n",
    "print(\"Final Random Dataset:\", f\"Train set: {X_train_random_final.shape}, Test set: {X_test_random_final.shape}\")\n",
    "print(\"Final SMOTE Dataset:\", f\"Train set: {X_train_smote_final.shape}, Test set: {X_test_smote_final.shape}\")\n"
   ]
  },
  {
   "cell_type": "markdown",
   "id": "02312619",
   "metadata": {},
   "source": [
    "The dataset contains both numeric features (transaction amounts, balances, and engineered ratios) and categorical features (dummy variables representing transaction types and type-size combinations). Scaling all features together caused errors and distorted the dummy variables (since scaling would convert the 0/1 indicators into continuous values).\n",
    "\n",
    "To address this:\n",
    "\n",
    "- Numeric features were scaled using StandardScaler to ensure all continuous values share a consistent scale for the machine learning models.\n",
    "\n",
    "- Categorical features (dummy variables) were kept as-is to preserve their 0/1 representation.\n",
    "\n",
    "- After scaling, the two sets were concatenated back together to form the final training and testing datasets.\n",
    "\n",
    "This approach avoids conversion errors (such as attempting to scale string IDs like account names) and ensures that both types of features remain usable for the models.\n",
    "\n",
    "The final datasets now include both scaled numeric values and intact dummy variables, making them ready for model training."
   ]
  },
  {
   "cell_type": "markdown",
   "id": "8c9572d3",
   "metadata": {},
   "source": [
    "**Helper Func**"
   ]
  },
  {
   "cell_type": "code",
   "execution_count": 8,
   "id": "a70fd4cb",
   "metadata": {},
   "outputs": [],
   "source": [
    "from sklearn.metrics import accuracy_score, precision_score, recall_score, f1_score, confusion_matrix, ConfusionMatrixDisplay\n",
    "\n",
    "# Helper function to train, predict, and evaluate any classifier\n",
    "def train_and_evaluate_model(model, X_train, X_test, y_train, y_test, model_name=\"Model\"):\n",
    "    \"\"\"\n",
    "    Trains a model, makes predictions, and prints evaluation metrics.\n",
    "    Also displays a confusion matrix for the test set.\n",
    "    \"\"\"\n",
    "    # Fit the model\n",
    "    model.fit(X_train, y_train)\n",
    "\n",
    "    # Predict on test set\n",
    "    y_pred = model.predict(X_test)\n",
    "\n",
    "    # Calculate metrics\n",
    "    accuracy = accuracy_score(y_test, y_pred)\n",
    "    precision = precision_score(y_test, y_pred)\n",
    "    recall = recall_score(y_test, y_pred)\n",
    "    f1 = f1_score(y_test, y_pred)\n",
    "\n",
    "    # Print results\n",
    "    print(f\"--- {model_name} Performance ---\")\n",
    "    print(f\"Accuracy: {accuracy:.4f}\")\n",
    "    print(f\"Precision: {precision:.4f}\")\n",
    "    print(f\"Recall: {recall:.4f}\")\n",
    "    print(f\"F1 Score: {f1:.4f}\")\n",
    "    print()\n",
    "\n",
    "    # Display confusion matrix\n",
    "    cm = confusion_matrix(y_test, y_pred)\n",
    "    disp = ConfusionMatrixDisplay(confusion_matrix=cm, display_labels=['Not Fraud', 'Fraud'])\n",
    "    disp.plot(cmap='Blues', values_format='d')\n",
    "    plt.title(f\"{model_name} – Confusion Matrix\")\n",
    "    plt.show()\n",
    "\n",
    "    return model, accuracy, precision, recall, f1\n"
   ]
  },
  {
   "cell_type": "code",
   "execution_count": 7,
   "id": "5ec2e572",
   "metadata": {},
   "outputs": [
    {
     "ename": "NameError",
     "evalue": "name 'X_train_random_final' is not defined",
     "output_type": "error",
     "traceback": [
      "\u001b[1;31m---------------------------------------------------------------------------\u001b[0m",
      "\u001b[1;31mNameError\u001b[0m                                 Traceback (most recent call last)",
      "Cell \u001b[1;32mIn[7], line 12\u001b[0m\n\u001b[0;32m      9\u001b[0m     \u001b[38;5;28;01mreturn\u001b[39;00m X_train_clean, X_test_clean\n\u001b[0;32m     11\u001b[0m \u001b[38;5;66;03m# Drop 'nameDest' column before training (if present)\u001b[39;00m\n\u001b[1;32m---> 12\u001b[0m X_train_random_final_no_id \u001b[38;5;241m=\u001b[39m X_train_random_final\u001b[38;5;241m.\u001b[39mdrop(columns\u001b[38;5;241m=\u001b[39m[\u001b[38;5;124m'\u001b[39m\u001b[38;5;124mnameDest\u001b[39m\u001b[38;5;124m'\u001b[39m], errors\u001b[38;5;241m=\u001b[39m\u001b[38;5;124m'\u001b[39m\u001b[38;5;124mignore\u001b[39m\u001b[38;5;124m'\u001b[39m)\n\u001b[0;32m     13\u001b[0m X_test_random_final_no_id \u001b[38;5;241m=\u001b[39m X_test_random_final\u001b[38;5;241m.\u001b[39mdrop(columns\u001b[38;5;241m=\u001b[39m[\u001b[38;5;124m'\u001b[39m\u001b[38;5;124mnameDest\u001b[39m\u001b[38;5;124m'\u001b[39m], errors\u001b[38;5;241m=\u001b[39m\u001b[38;5;124m'\u001b[39m\u001b[38;5;124mignore\u001b[39m\u001b[38;5;124m'\u001b[39m)\n\u001b[0;32m     15\u001b[0m \u001b[38;5;66;03m# Use your *final* datasets from the previous step (already combined and scaled)\u001b[39;00m\n",
      "\u001b[1;31mNameError\u001b[0m: name 'X_train_random_final' is not defined"
     ]
    }
   ],
   "source": [
    "# --- Final unified datasets for modeling (use scaled sets & drop IDs) ---\n",
    "\n",
    "def drop_id_columns(X_train, X_test, id_cols=['nameDest']):\n",
    "    \"\"\"\n",
    "    Removes ID or non-numeric columns from train and test datasets to ensure all features are numeric.\n",
    "    \"\"\"\n",
    "    X_train_clean = X_train.drop(columns=id_cols, errors='ignore')\n",
    "    X_test_clean = X_test.drop(columns=id_cols, errors='ignore')\n",
    "    return X_train_clean, X_test_clean\n",
    "\n",
    "# Drop 'nameDest' column before training (if present)\n",
    "X_train_random_final_no_id = X_train_random_final.drop(columns=['nameDest'], errors='ignore')\n",
    "X_test_random_final_no_id = X_test_random_final.drop(columns=['nameDest'], errors='ignore')\n",
    "\n",
    "# Use your *final* datasets from the previous step (already combined and scaled)\n",
    "X_train_random_final_no_id, X_test_random_final_no_id = drop_id_columns(X_train_random_final, X_test_random_final)\n",
    "X_train_smote_final_no_id, X_test_smote_final_no_id = drop_id_columns(X_train_smote_final, X_test_smote_final)\n",
    "\n",
    "print(\"Final Feature Shapes (IDs dropped):\")\n",
    "print(f\"- Random Oversampling: Train {X_train_random_final_no_id.shape}, Test {X_test_random_final_no_id.shape}\")\n",
    "print(f\"- SMOTE Oversampling: Train {X_train_smote_final_no_id.shape}, Test {X_test_smote_final_no_id.shape}\")\n"
   ]
  },
  {
   "cell_type": "markdown",
   "id": "9c408b67",
   "metadata": {},
   "source": [
    "## Logistic Regression"
   ]
  },
  {
   "cell_type": "code",
   "execution_count": 11,
   "id": "2212f7ce",
   "metadata": {},
   "outputs": [],
   "source": [
    "from sklearn.linear_model import LogisticRegression\n",
    "\n",
    "# Define Logistic Regression and parameter grid\n",
    "log_reg = LogisticRegression(max_iter=1000, solver='lbfgs')\n",
    "\n",
    "param_grid = {\n",
    "    'C': [0.01, 0.1, 1, 10],  # Regularization \n",
    "    'penalty': ['l2']         # lbfgs only supports l2\n",
    "}\n",
    "\n",
    "# Wait to use X_train_random_final_no_id until it is defined in the lower cell.\n",
    "# You can run this cell after the cell that defines X_train_random_final_no_id and X_test_random_final_no_id.\n",
    "\n",
    "# Grid Search with 5-fold cross-validation\n",
    "grid_search = GridSearchCV(log_reg, param_grid, scoring='f1', cv=5, n_jobs=-1)\n",
    "# grid_search.fit(X_train_random_final_no_id, y_train_random)  # Uncomment after X_train_random_final_no_id is defined\n",
    "\n",
    "# # Get the best parameters\n",
    "# print(\"Best Parameters (Random Oversampling):\", grid_search.best_params_)\n",
    "\n",
    "# # Use the tuned model\n",
    "# best_log_reg_random = grid_search.best_estimator_\n",
    "\n",
    "# # Evaluate tuned model\n",
    "# print(\"\\n### Logistic Regression (Tuned) – Random Oversampling ###\")\n",
    "# train_and_evaluate_model(best_log_reg_random,\n",
    "#                          X_train_random_final_no_id, X_test_random_final_no_id,\n",
    "#                          y_train_random, y_test_random,\n",
    "#                          model_name=\"Logistic Regression (Random, Tuned)\")\n"
   ]
  },
  {
   "cell_type": "code",
   "execution_count": null,
   "id": "1b0c646a",
   "metadata": {},
   "outputs": [
    {
     "name": "stdout",
     "output_type": "stream",
     "text": [
      "### Logistic Regression – Random Oversampling ###\n",
      "--- Logistic Regression (Random) Performance ---\n",
      "Accuracy: 0.9698\n",
      "Precision: 0.9520\n",
      "Recall: 0.9895\n",
      "F1 Score: 0.9704\n",
      "\n"
     ]
    },
    {
     "data": {
      "image/png": "[encoded data removed]",
      "text/plain": [
       "<Figure size 640x480 with 2 Axes>"
      ]
     },
     "metadata": {},
     "output_type": "display_data"
    },
    {
     "name": "stdout",
     "output_type": "stream",
     "text": [
      "\n",
      "### Logistic Regression – SMOTE Oversampling ###\n",
      "--- Logistic Regression (SMOTE) Performance ---\n",
      "Accuracy: 0.9743\n",
      "Precision: 0.9594\n",
      "Recall: 0.9905\n",
      "F1 Score: 0.9747\n",
      "\n"
     ]
    },
    {
     "data": {
      "image/png": "[encoded data removed]",
      "text/plain": [
       "<Figure size 640x480 with 2 Axes>"
      ]
     },
     "metadata": {},
     "output_type": "display_data"
    },
    {
     "data": {
      "text/plain": [
       "(LogisticRegression(max_iter=1000),\n",
       " 0.9742892045198532,\n",
       " 0.9593924875617066,\n",
       " 0.9905027009977921,\n",
       " 0.9746994154582113)"
      ]
     },
     "execution_count": 41,
     "metadata": {},
     "output_type": "execute_result"
    }
   ],
   "source": [
    "# Initialize Logistic Regression (basic parameters)\n",
    "log_reg_random = LogisticRegression(max_iter=1000,solver='lbfgs')\n",
    "log_reg_smote = LogisticRegression(max_iter=1000, solver='lbfgs')\n",
    "\n",
    "# Train and evaluate on Random Oversampled dataset\n",
    "print(\"### Logistic Regression – Random Oversampling ###\")\n",
    "train_and_evaluate_model(log_reg_random,\n",
    "                         X_train_random_final_no_id, X_test_random_final_no_id,\n",
    "                         y_train_random, y_test_random,\n",
    "                         model_name=\"Logistic Regression (Random)\")\n",
    "\n",
    "# For SMOTE, there is no 'nameDest' column, so use as-is\n",
    "print(\"\\n### Logistic Regression – SMOTE Oversampling ###\")\n",
    "train_and_evaluate_model(log_reg_smote,\n",
    "                         X_train_smote_final, X_test_smote_final,\n",
    "                         y_train_smote, y_test_smote,\n",
    "                         model_name=\"Logistic Regression (SMOTE)\")\n"
   ]
  },
  {
   "cell_type": "markdown",
   "id": "889a43db",
   "metadata": {},
   "source": [
    "**Key Results:**\n",
    "\n",
    "- All models achieved high performance, with accuracy between 96.9% and 97.4%.\n",
    "\n",
    "- Precision (95–96%) indicates that most predicted fraud cases were correct.\n",
    "\n",
    "- Recall (98–99%) shows the models successfully captured nearly all fraud cases.\n",
    "\n",
    "- Tuning slightly improved performance for the Random Oversampling dataset but had minimal effect compared to SMOTE results.\n",
    "\n",
    "- SMOTE yielded the highest accuracy and F1 score (97.4%), suggesting that synthetic balancing improved detection slightly over random oversampling."
   ]
  },
  {
   "cell_type": "markdown",
   "id": "db128d64",
   "metadata": {},
   "source": [
    "## Random Forest\n"
   ]
  },
  {
   "cell_type": "code",
   "execution_count": null,
   "id": "732baab4",
   "metadata": {},
   "outputs": [],
   "source": [
    "from sklearn.ensemble import RandomForestClassifier"
   ]
  },
  {
   "cell_type": "code",
   "execution_count": null,
   "id": "66e1bbbf",
   "metadata": {},
   "outputs": [
    {
     "ename": "NameError",
     "evalue": "name 'GridSearchCV' is not defined",
     "output_type": "error",
     "traceback": [
      "\u001b[1;31m---------------------------------------------------------------------------\u001b[0m",
      "\u001b[1;31mNameError\u001b[0m                                 Traceback (most recent call last)",
      "Cell \u001b[1;32mIn[2], line 11\u001b[0m\n\u001b[0;32m      4\u001b[0m param_grid_rf \u001b[38;5;241m=\u001b[39m {\n\u001b[0;32m      5\u001b[0m     \u001b[38;5;124m'\u001b[39m\u001b[38;5;124mn_estimators\u001b[39m\u001b[38;5;124m'\u001b[39m: [\u001b[38;5;241m100\u001b[39m, \u001b[38;5;241m200\u001b[39m],         \u001b[38;5;66;03m# Number of trees\u001b[39;00m\n\u001b[0;32m      6\u001b[0m     \u001b[38;5;124m'\u001b[39m\u001b[38;5;124mmax_depth\u001b[39m\u001b[38;5;124m'\u001b[39m: [\u001b[38;5;241m10\u001b[39m, \u001b[38;5;241m20\u001b[39m, \u001b[38;5;28;01mNone\u001b[39;00m],        \u001b[38;5;66;03m# Depth of trees (None = unlimited)\u001b[39;00m\n\u001b[0;32m      7\u001b[0m     \u001b[38;5;124m'\u001b[39m\u001b[38;5;124mmin_samples_split\u001b[39m\u001b[38;5;124m'\u001b[39m: [\u001b[38;5;241m2\u001b[39m, \u001b[38;5;241m5\u001b[39m, \u001b[38;5;241m10\u001b[39m]     \u001b[38;5;66;03m# Minimum samples to split a node\u001b[39;00m\n\u001b[0;32m      8\u001b[0m }\n\u001b[0;32m     10\u001b[0m \u001b[38;5;66;03m# GridSearchCV setup\u001b[39;00m\n\u001b[1;32m---> 11\u001b[0m grid_rf \u001b[38;5;241m=\u001b[39m GridSearchCV(\n\u001b[0;32m     12\u001b[0m     estimator\u001b[38;5;241m=\u001b[39mrf,\n\u001b[0;32m     13\u001b[0m     param_grid\u001b[38;5;241m=\u001b[39mparam_grid_rf,\n\u001b[0;32m     14\u001b[0m     scoring\u001b[38;5;241m=\u001b[39m\u001b[38;5;124m'\u001b[39m\u001b[38;5;124mf1\u001b[39m\u001b[38;5;124m'\u001b[39m,      \u001b[38;5;66;03m# Optimize for F1 (balances precision & recall)\u001b[39;00m\n\u001b[0;32m     15\u001b[0m     cv\u001b[38;5;241m=\u001b[39m\u001b[38;5;241m3\u001b[39m,              \u001b[38;5;66;03m# 3-fold cross-validation\u001b[39;00m\n\u001b[0;32m     16\u001b[0m )\n\u001b[0;32m     18\u001b[0m \u001b[38;5;66;03m# Fit on the Random Oversampled training data (drop 'nameDest' column)\u001b[39;00m\n\u001b[0;32m     19\u001b[0m grid_rf\u001b[38;5;241m.\u001b[39mfit(X_train_random_final_no_id, y_train_random)\n",
      "\u001b[1;31mNameError\u001b[0m: name 'GridSearchCV' is not defined"
     ]
    }
   ],
   "source": [
    "# Define Random Forest and hyperparameter grid\n",
    "rf = RandomForestClassifier(random_state=42)\n",
    "\n",
    "param_grid_rf = {\n",
    "    'n_estimators': [100, 200],         # Number of trees\n",
    "    'max_depth': [10, 20, None],        # Depth of trees (None = unlimited)\n",
    "    'min_samples_split': [2, 5, 10]     # Minimum samples to split a node\n",
    "}\n",
    "\n",
    "# GridSearchCV setup\n",
    "grid_rf = GridSearchCV(\n",
    "    estimator=rf,\n",
    "    param_grid=param_grid_rf,\n",
    "    scoring='f1',      # Optimize for F1 (balances precision & recall)\n",
    "    cv=3,              # 3-fold cross-validation\n",
    ")\n",
    "\n",
    "# Fit on the Random Oversampled training data (drop 'nameDest' column)\n",
    "grid_rf.fit(X_train_random_final_no_id, y_train_random)\n",
    "\n",
    "# Best hyperparameters\n",
    "print(\"Best Parameters (Random Forest - Random Oversampling):\", grid_rf.best_params_)\n",
    "best_rf_params = grid_rf.best_params_"
   ]
  },
  {
   "cell_type": "code",
   "execution_count": null,
   "id": "48d5bc57",
   "metadata": {},
   "outputs": [],
   "source": [
    "# Use best parameters to create the final Random Forest model\n",
    "best_rf_model = RandomForestClassifier(**best_rf_params, random_state=42)\n",
    "\n",
    "# Evaluate on Random Oversampling dataset\n",
    "train_and_evaluate_model(best_rf_model, X_train_random_final, X_test_random_final,\n",
    "                         y_train_random, y_test_random, model_name=\"Random Forest (Random Oversampling)\")\n",
    "\n",
    "# Evaluate on SMOTE dataset (same tuned params, no re-tuning)\n",
    "train_and_evaluate_model(best_rf_model, X_train_smote_final, X_test_smote_final,\n",
    "                         y_train_smote, y_test_smote, model_name=\"Random Forest (SMOTE Oversampling)\")\n"
   ]
  },
  {
   "cell_type": "markdown",
   "id": "4e66c411",
   "metadata": {},
   "source": [
    "### (Bonus) Gradient Boosting "
   ]
  },
  {
   "cell_type": "code",
   "execution_count": null,
   "id": "a7c3f5ea",
   "metadata": {},
   "outputs": [],
   "source": [
    "from sklearn.ensemble import GradientBoostingClassifier\n",
    "\n",
    "# Define Gradient Boosting and hyperparameter grid\n",
    "gb = GradientBoostingClassifier(random_state=42)\n",
    "\n",
    "param_grid_gb = {\n",
    "    'n_estimators': [100, 200],         # Number of boosting stages\n",
    "    'learning_rate': [0.01, 0.1, 0.2],   # Step size shrinkage\n",
    "    'max_depth': [3, 5, 7]               # Maximum depth of the individual trees\n",
    "}\n",
    "\n",
    "# GridSearchCV setup\n",
    "grid_gb = GridSearchCV(\n",
    "    estimator=gb,\n",
    "    param_grid=param_grid_gb,\n",
    "    scoring='f1',      # Optimize for F1 (balances precision & recall)\n",
    "    cv=3,              # 3-fold cross-validation\n",
    ")\n",
    "\n",
    "grid_gb.fit(X_train_random_final_no_id, y_train_random)\n",
    "\n",
    "# Best hyperparameters\n",
    "print(\"Best Parameters (Gradient Boosting - Random Oversampling):\", grid_gb.best_params_)\n",
    "best_gb_params = grid_gb.best_params_\n",
    "\n"
   ]
  },
  {
   "cell_type": "code",
   "execution_count": null,
   "id": "b182792b",
   "metadata": {},
   "outputs": [],
   "source": [
    "# Final Gradient Boosting model using tuned parameters\n",
    "best_gb_model = GradientBoostingClassifier(**best_gb_params, random_state=42)\n",
    "\n",
    "# Evaluate on Random Oversampling dataset\n",
    "train_and_evaluate_model(best_gb_model,\n",
    "                         X_train_random_final, X_test_random_final,\n",
    "                         y_train_random, y_test_random,\n",
    "                         model_name=\"Gradient Boosting (Random Oversampling)\")\n",
    "\n",
    "# Evaluate on SMOTE dataset (reuse tuned parameters)\n",
    "train_and_evaluate_model(best_gb_model,\n",
    "                         X_train_smote_final, X_test_smote_final,\n",
    "                         y_train_smote, y_test_smote,\n",
    "                         model_name=\"Gradient Boosting (SMOTE Oversampling)\")"
   ]
  }
 ],
 "metadata": {
  "kernelspec": {
   "display_name": "ds",
   "language": "python",
   "name": "python3"
  },
  "language_info": {
   "codemirror_mode": {
    "name": "ipython",
    "version": 3
   },
   "file_extension": ".py",
   "mimetype": "text/x-python",
   "name": "python",
   "nbconvert_exporter": "python",
   "pygments_lexer": "ipython3",
   "version": "3.12.9"
  }
 },
 "nbformat": 4,
 "nbformat_minor": 5
}
