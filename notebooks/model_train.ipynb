{
 "cells": [
  {
   "cell_type": "markdown",
   "id": "b5bd66ee",
   "metadata": {},
   "source": [
    "# Model Training – Fraud Detection\n",
    "\n",
    "This notebook trains and evaluates machine learning models to detect fraudulent transactions using the processed datasets from transform.ipynb. The goal is to test multiple classification models, optimize their performance, and identify the one that best detects rare fraud cases.\n",
    "\n",
    "**Objectives:**\n",
    "- Confirm the task type (binary classification) and load the balanced datasets (Random Oversampling and SMOTE)\n",
    "\n",
    "- Split the data into training and testing sets.\n",
    "\n",
    "- Train and evaluate three machine learning models:\n",
    "\n",
    "    - Logistic Regression\n",
    "    - Random Forest\n",
    "    - Gradient Boosting \n",
    "\n",
    "- Use GridSearchCV or RandomizedSearchCV to tune hyperparameters for each model\n",
    "\n",
    "- Compare models using accuracy, precision, recall, F1-score, and sensitivity to fraud cases.\n",
    "\n",
    "- Select the best-performing model to use in future predictions."
   ]
  },
  {
   "cell_type": "markdown",
   "id": "18b236b7",
   "metadata": {},
   "source": [
    "## Defining Models\n",
    "\n",
    "This project is framed as a classification task, not a regression task, because the goal is to predict whether a transaction is fraudulent (1) or not (0), rather than estimate a continuous value like transaction amount.\n",
    "\n",
    "The target variable isFraud contains only two possible outcomes, meaning this is a binary classification problem, not a multi-class task.\n",
    "\n",
    "Three machine learning models will be applied to capture a range of complexity and performance:\n",
    "\n",
    "- **Logistic Regression:** A fast, interpretable linear model that establishes a baseline by finding the best linear boundary to separate fraudulent and non-fraudulent transactions.\n",
    "\n",
    "- **Random Forest Classifier:** An ensemble of decision trees that captures complex, non-linear relationships, is less sensitive to scaling, and can rank features by importance.\n",
    "\n",
    "- **Gradient Boosting Classifier:** A boosting method that builds trees sequentially, each correcting the errors of the previous, often achieving strong predictive performance on imbalanced datasets.\n",
    "\n",
    "Each model will be trained and evaluated on both the Random Oversampling dataset and the SMOTE-balanced dataset to compare their effectiveness under different resampling strategies."
   ]
  },
  {
   "cell_type": "code",
   "execution_count": 27,
   "id": "23741a8f",
   "metadata": {},
   "outputs": [],
   "source": [
    "# General libraries \n",
    "import pandas as pd\n",
    "import numpy as np\n",
    "import matplotlib.pyplot as plt\n",
    "from sklearn.model_selection import train_test_split\n",
    "from sklearn.preprocessing import StandardScaler\n",
    "from sklearn.model_selection import GridSearchCV\n",
    "from sklearn.model_selection import RandomizedSearchCV\n",
    "from sklearn.metrics import accuracy_score, precision_score, recall_score, f1_score, confusion_matrix, classification_report, ConfusionMatrixDisplay\n",
    "# Machine learning libraries\n",
    "from sklearn.linear_model import LogisticRegression\n",
    "from sklearn.ensemble import RandomForestClassifier\n",
    "from sklearn.ensemble import GradientBoostingClassifier\n",
    "\n",
    "\n",
    "\n",
    "\n"
   ]
  },
  {
   "cell_type": "markdown",
   "id": "e3f2de59",
   "metadata": {},
   "source": [
    "## Load Data "
   ]
  },
  {
   "cell_type": "code",
   "execution_count": 28,
   "id": "5fec25af",
   "metadata": {},
   "outputs": [
    {
     "name": "stdout",
     "output_type": "stream",
     "text": [
      "Datasets loaded successfully:\n",
      "- Random Oversampled: (1997406, 13)\n",
      "- SMOTE Oversampled: (1997406, 12)\n"
     ]
    }
   ],
   "source": [
    "# Use forward slashes for cross-platform paths\n",
    "random_path = ('../data/processed_data/transactions_balanced_random.csv')\n",
    "smote_path = ('../data/processed_data/transactions_balanced_smote.csv')\n",
    "\n",
    "# Load both datasets\n",
    "balanced_random = pd.read_csv(random_path)\n",
    "balanced_smote = pd.read_csv(smote_path)\n",
    "\n",
    "print(\"Datasets loaded successfully:\")\n",
    "print(f\"- Random Oversampled: {balanced_random.shape}\")\n",
    "print(f\"- SMOTE Oversampled: {balanced_smote.shape}\")\n"
   ]
  },
  {
   "cell_type": "markdown",
   "id": "afff4429",
   "metadata": {},
   "source": [
    "## Train/Test Split and Feature Scaling\n",
    "Before training the models, the dataset is split into training (80%) and testing (20%) sets, ensuring that model evaluation is done on unseen data. After splitting, features are scaled using StandardScaler, which standardizes each feature to have a mean of 0 and a standard deviation of 1.\n",
    "\n",
    "Scaling is done:\n",
    "\n",
    "- Only on the training data (fit step) to avoid data leakage.\n",
    "\n",
    "- Applied to the test data (transform step) using the same scaler.\n",
    "\n",
    "This ensures that models sensitive to feature magnitude (like Logistic Regression and Gradient Boosting) perform correctly. Random Forest, which is scale-invariant, can still benefit from standardized inputs for consistency.\n",
    "\n",
    "Separate splits and scalers are used for:\n",
    "\n",
    "- The Random Oversampled dataset\n",
    "\n",
    "- The SMOTE-balanced dataset\n",
    "\n",
    "so each resampled version is prepared independently for modeling."
   ]
  },
  {
   "cell_type": "markdown",
   "id": "df8ba5bc",
   "metadata": {},
   "source": [
    "**Splitting**"
   ]
  },
  {
   "cell_type": "code",
   "execution_count": 29,
   "id": "8448d330",
   "metadata": {},
   "outputs": [
    {
     "name": "stdout",
     "output_type": "stream",
     "text": [
      "Random Oversampling: Train set: (1597924, 12), Test set: (399482, 12)\n",
      "SMOTE Oversampling: Train set: (1597924, 11), Test set: (399482, 11)\n"
     ]
    }
   ],
   "source": [
    "# Separate features (X) and target (y) for both datasets\n",
    "def split_features_and_target(df, target_col='isFraud'):\n",
    "    X = df.drop(columns=[target_col])\n",
    "    y = df[target_col]\n",
    "    return X, y\n",
    "\n",
    "X_random, y_random = split_features_and_target(balanced_random)\n",
    "X_smote, y_smote = split_features_and_target(balanced_smote)\n",
    "\n",
    "# Train-Test Split \n",
    "def create_train_test_splits(X, y, test_size=0.2, random_state=42):\n",
    "    return train_test_split(X, y, test_size=test_size, random_state=random_state, stratify=y)\n",
    "\n",
    "X_train_random, X_test_random, y_train_random, y_test_random = create_train_test_splits(X_random, y_random)\n",
    "X_train_smote, X_test_smote, y_train_smote, y_test_smote = create_train_test_splits(X_smote, y_smote)\n",
    "\n",
    "# Display the splits \n",
    "print(\"Random Oversampling:\", f\"Train set: {X_train_random.shape}, Test set: {X_test_random.shape}\")\n",
    "\n",
    "print(\"SMOTE Oversampling:\", f\"Train set: {X_train_smote.shape}, Test set: {X_test_smote.shape}\")\n"
   ]
  },
  {
   "cell_type": "markdown",
   "id": "2d50d50c",
   "metadata": {},
   "source": [
    "**Scaling**"
   ]
  },
  {
   "cell_type": "code",
   "execution_count": 30,
   "id": "90373691",
   "metadata": {},
   "outputs": [
    {
     "name": "stdout",
     "output_type": "stream",
     "text": [
      "Scaled Random Dataset: Train set: (1597924, 6), Test set: (399482, 6)\n",
      "Scaled SMOTE Dataset: Train set: (1597924, 6), Test set: (399482, 6)\n"
     ]
    }
   ],
   "source": [
    "# Drop any non-numeric columns before scaling \n",
    "X_train_random_num = X_train_random.select_dtypes(include=['number'])\n",
    "X_test_random_num = X_test_random.select_dtypes(include=['number'])\n",
    "\n",
    "X_train_smote_num = X_train_smote.select_dtypes(include=['number'])\n",
    "X_test_smote_num = X_test_smote.select_dtypes(include=['number'])\n",
    "\n",
    "# Initialize scalers for each dataset\n",
    "scaler_random = StandardScaler()\n",
    "scaler_smote = StandardScaler()\n",
    "\n",
    "# Fit on training data, transform train and test sets (numeric columns only)\n",
    "X_train_random_scaled = scaler_random.fit_transform(X_train_random_num)\n",
    "X_test_random_scaled = scaler_random.transform(X_test_random_num)\n",
    "\n",
    "X_train_smote_scaled = scaler_smote.fit_transform(X_train_smote_num)\n",
    "X_test_smote_scaled = scaler_smote.transform(X_test_smote_num)\n",
    "\n",
    "# Convert to DataFrames for readability (optional)\n",
    "X_train_random_scaled = pd.DataFrame(X_train_random_scaled, columns=X_train_random_num.columns, index=X_train_random_num.index)\n",
    "X_test_random_scaled = pd.DataFrame(X_test_random_scaled, columns=X_test_random_num.columns, index=X_test_random_num.index)\n",
    "\n",
    "X_train_smote_scaled = pd.DataFrame(X_train_smote_scaled, columns=X_train_smote_num.columns, index=X_train_smote_num.index)\n",
    "X_test_smote_scaled = pd.DataFrame(X_test_smote_scaled, columns=X_test_smote_num.columns, index=X_test_smote_num.index)\n",
    "\n",
    "# Confirm scaled shapes\n",
    "print(\"Scaled Random Dataset:\", f\"Train set: {X_train_random_scaled.shape}, Test set: {X_test_random_scaled.shape}\")\n",
    "print(\"Scaled SMOTE Dataset:\", f\"Train set: {X_train_smote_scaled.shape}, Test set: {X_test_smote_scaled.shape}\")\n"
   ]
  },
  {
   "cell_type": "code",
   "execution_count": 31,
   "id": "67966644",
   "metadata": {},
   "outputs": [
    {
     "name": "stdout",
     "output_type": "stream",
     "text": [
      "Final Random Dataset: Train set: (1597924, 12), Test set: (399482, 12)\n",
      "Final SMOTE Dataset: Train set: (1597924, 11), Test set: (399482, 11)\n"
     ]
    }
   ],
   "source": [
    "# Identify dummy (categorical) columns\n",
    "dummy_cols_random = X_train_random.drop(columns=X_train_random_num.columns).columns\n",
    "dummy_cols_smote = X_train_smote.drop(columns=X_train_smote_num.columns).columns\n",
    "\n",
    "# Keep the dummy columns as-is\n",
    "X_train_random_dummy = X_train_random[dummy_cols_random]\n",
    "X_test_random_dummy = X_test_random[dummy_cols_random]\n",
    "\n",
    "X_train_smote_dummy = X_train_smote[dummy_cols_smote]\n",
    "X_test_smote_dummy = X_test_smote[dummy_cols_smote]\n",
    "\n",
    "# Combine scaled numeric features with dummy variables\n",
    "X_train_random_final = pd.concat([X_train_random_scaled, X_train_random_dummy], axis=1)\n",
    "X_test_random_final = pd.concat([X_test_random_scaled, X_test_random_dummy], axis=1)\n",
    "\n",
    "X_train_smote_final = pd.concat([X_train_smote_scaled, X_train_smote_dummy], axis=1)\n",
    "X_test_smote_final = pd.concat([X_test_smote_scaled, X_test_smote_dummy], axis=1)\n",
    "\n",
    "# Confirm final shapes\n",
    "print(\"Final Random Dataset:\", f\"Train set: {X_train_random_final.shape}, Test set: {X_test_random_final.shape}\")\n",
    "print(\"Final SMOTE Dataset:\", f\"Train set: {X_train_smote_final.shape}, Test set: {X_test_smote_final.shape}\")\n"
   ]
  },
  {
   "cell_type": "markdown",
   "id": "02312619",
   "metadata": {},
   "source": [
    "The dataset contains both numeric features (transaction amounts, balances, and engineered ratios) and categorical features (dummy variables representing transaction types and type-size combinations). Scaling all features together caused errors and distorted the dummy variables (since scaling would convert the 0/1 indicators into continuous values).\n",
    "\n",
    "To address this:\n",
    "\n",
    "- Numeric features were scaled using StandardScaler to ensure all continuous values share a consistent scale for the machine learning models.\n",
    "\n",
    "- Categorical features (dummy variables) were kept as-is to preserve their 0/1 representation.\n",
    "\n",
    "- After scaling, the two sets were concatenated back together to form the final training and testing datasets.\n",
    "\n",
    "This approach avoids conversion errors (such as attempting to scale string IDs like account names) and ensures that both types of features remain usable for the models.\n",
    "\n",
    "The final datasets now include both scaled numeric values and intact dummy variables, making them ready for model training."
   ]
  },
  {
   "cell_type": "code",
   "execution_count": 32,
   "id": "a986eca0",
   "metadata": {},
   "outputs": [
    {
     "name": "stdout",
     "output_type": "stream",
     "text": [
      "Random Oversampling Columns:\n",
      "['amount', 'oldbalanceOrg', 'newbalanceOrig', 'oldbalanceDest', 'newbalanceDest', 'isFlaggedFraud', 'nameDest', 'CASH_IN', 'CASH_OUT', 'DEBIT', 'PAYMENT', 'TRANSFER']\n",
      "\n",
      "SMOTE Oversampling Columns:\n",
      "['amount', 'oldbalanceOrg', 'newbalanceOrig', 'oldbalanceDest', 'newbalanceDest', 'isFlaggedFraud', 'CASH_IN', 'CASH_OUT', 'DEBIT', 'PAYMENT', 'TRANSFER']\n"
     ]
    }
   ],
   "source": [
    "# Check which columns are currently in X_train and X_test for both datasets\n",
    "print(\"Random Oversampling Columns:\")\n",
    "print(X_train_random_final.columns.tolist())\n",
    "\n",
    "print(\"\\nSMOTE Oversampling Columns:\")\n",
    "print(X_train_smote_final.columns.tolist())\n"
   ]
  },
  {
   "cell_type": "code",
   "execution_count": 33,
   "id": "f62e6ccc",
   "metadata": {},
   "outputs": [
    {
     "name": "stdout",
     "output_type": "stream",
     "text": [
      "After cleanup:\n",
      "Random Oversampling (train): (1597924, 11)\n",
      "Random Oversampling (test): (399482, 11)\n",
      "SMOTE (train): (1597924, 11)\n",
      "SMOTE (test): (399482, 11)\n"
     ]
    }
   ],
   "source": [
    "# Drop non-numeric columns like 'nameDest' (only exists in Random Oversampling)\n",
    "id_cols = ['nameDest']\n",
    "\n",
    "X_train_random_final = X_train_random_final.drop(columns=id_cols, errors='ignore')\n",
    "X_test_random_final = X_test_random_final.drop(columns=id_cols, errors='ignore')\n",
    "\n",
    "# SMOTE dataset has no 'nameDest', so no action needed\n",
    "\n",
    "print(\"After cleanup:\")\n",
    "print(f\"Random Oversampling (train): {X_train_random_final.shape}\")\n",
    "print(f\"Random Oversampling (test): {X_test_random_final.shape}\")\n",
    "print(f\"SMOTE (train): {X_train_smote_final.shape}\")\n",
    "print(f\"SMOTE (test): {X_test_smote_final.shape}\")\n"
   ]
  },
  {
   "cell_type": "markdown",
   "id": "9c408b67",
   "metadata": {},
   "source": [
    "## Logistic Regression"
   ]
  },
  {
   "cell_type": "markdown",
   "id": "0f5d51e5",
   "metadata": {},
   "source": [
    "Hyperparamter Tunning "
   ]
  },
  {
   "cell_type": "code",
   "execution_count": 34,
   "id": "947a056e",
   "metadata": {},
   "outputs": [
    {
     "name": "stdout",
     "output_type": "stream",
     "text": [
      "Best Parameters (Logistic Regression – Random Oversampling): {'C': 10, 'penalty': 'l2'}\n"
     ]
    }
   ],
   "source": [
    "lr = LogisticRegression(max_iter=1000, solver='lbfgs')\n",
    "\n",
    "# Grid of hyperparameters\n",
    "param_grid_lr = {\n",
    "    'C': [0.01, 0.1, 1, 10],   # Regularization strength\n",
    "    'penalty': ['l2']          # l2 regularization (lbfgs supports only l2)\n",
    "}\n",
    "\n",
    "# GridSearchCV setup\n",
    "grid_lr = GridSearchCV(\n",
    "    estimator=lr,\n",
    "    param_grid=param_grid_lr,\n",
    "    scoring='f1',     # F1 balances precision and recall\n",
    "    cv=3\n",
    ")\n",
    "\n",
    "# Fit using Random Oversampling dataset\n",
    "grid_lr.fit(X_train_random_final, y_train_random)\n",
    "\n",
    "# Show best hyperparameters\n",
    "print(\"Best Parameters (Logistic Regression – Random Oversampling):\", grid_lr.best_params_)\n",
    "best_lr_params = grid_lr.best_params_"
   ]
  },
  {
   "cell_type": "markdown",
   "id": "f800d2e2",
   "metadata": {},
   "source": [
    "Train Model & Eval"
   ]
  },
  {
   "cell_type": "code",
   "execution_count": 35,
   "id": "75c2a047",
   "metadata": {},
   "outputs": [
    {
     "name": "stdout",
     "output_type": "stream",
     "text": [
      "\n",
      "--- Logistic Regression (Random Oversampling) ---\n",
      "Accuracy: 0.9697933824302472\n",
      "Precision: 0.9519956070633797\n",
      "Recall: 0.9894813783850086\n",
      "F1 Score: 0.9703766076588265\n"
     ]
    },
    {
     "data": {
      "image/png": "[encoded data removed]",
      "text/plain": [
       "<Figure size 640x480 with 2 Axes>"
      ]
     },
     "metadata": {},
     "output_type": "display_data"
    },
    {
     "name": "stdout",
     "output_type": "stream",
     "text": [
      "\n",
      "--- Logistic Regression (SMOTE Oversampling) ---\n",
      "Accuracy: 0.9745195027560691\n",
      "Precision: 0.9597091805059754\n",
      "Recall: 0.9906278630826921\n",
      "F1 Score: 0.9749234449407145\n"
     ]
    },
    {
     "data": {
      "image/png": "[encoded data removed]",
      "text/plain": [
       "<Figure size 640x480 with 2 Axes>"
      ]
     },
     "metadata": {},
     "output_type": "display_data"
    }
   ],
   "source": [
    "# Create final Logistic Regression model using best params\n",
    "best_lr_model = LogisticRegression(**best_lr_params, max_iter=1000, solver='lbfgs')\n",
    "\n",
    "# Evaluate on Random Oversampling \n",
    "best_lr_model.fit(X_train_random_final, y_train_random)\n",
    "y_pred_random = best_lr_model.predict(X_test_random_final)\n",
    "\n",
    "print(\"\\n--- Logistic Regression (Random Oversampling) ---\")\n",
    "print(\"Accuracy:\", accuracy_score(y_test_random, y_pred_random))\n",
    "print(\"Precision:\", precision_score(y_test_random, y_pred_random))\n",
    "print(\"Recall:\", recall_score(y_test_random, y_pred_random))\n",
    "print(\"F1 Score:\", f1_score(y_test_random, y_pred_random))\n",
    "\n",
    "cm_random = confusion_matrix(y_test_random, y_pred_random)\n",
    "disp = ConfusionMatrixDisplay(confusion_matrix=cm_random, display_labels=['Not Fraud', 'Fraud'])\n",
    "disp.plot(cmap='Blues')\n",
    "plt.title(\"Logistic Regression – Random Oversampling\")\n",
    "plt.show()\n",
    "\n",
    "# Evaluate on SMOTE Oversampling\n",
    "best_lr_model.fit(X_train_smote_final, y_train_smote)\n",
    "y_pred_smote = best_lr_model.predict(X_test_smote_final)\n",
    "\n",
    "print(\"\\n--- Logistic Regression (SMOTE Oversampling) ---\")\n",
    "print(\"Accuracy:\", accuracy_score(y_test_smote, y_pred_smote))\n",
    "print(\"Precision:\", precision_score(y_test_smote, y_pred_smote))\n",
    "print(\"Recall:\", recall_score(y_test_smote, y_pred_smote))\n",
    "print(\"F1 Score:\", f1_score(y_test_smote, y_pred_smote))\n",
    "\n",
    "cm_smote = confusion_matrix(y_test_smote, y_pred_smote)\n",
    "disp = ConfusionMatrixDisplay(confusion_matrix=cm_smote, display_labels=['Not Fraud', 'Fraud'])\n",
    "disp.plot(cmap='Blues')\n",
    "plt.title(\"Logistic Regression – SMOTE Oversampling\")\n",
    "plt.show()"
   ]
  },
  {
   "cell_type": "markdown",
   "id": "66abaee4",
   "metadata": {},
   "source": [
    "After tuning (C=10, penalty='l2'), Logistic Regression performed strongly across both balanced datasets:\n",
    "\n",
    "- Random Oversampling:\n",
    "Accuracy: 0.9698 | Precision: 0.9520 | Recall: 0.9895 | F1 Score: 0.9704\n",
    "\n",
    "- SMOTE Oversampling:\n",
    "Accuracy: 0.9745 | Precision: 0.9597 | Recall: 0.9906 | F1 Score: 0.9749\n",
    "\n",
    "Both models demonstrate high recall, ensuring most fraudulent cases are detected, while still maintaining strong precision.\n",
    "The SMOTE-based model slightly outperforms Random Oversampling, indicating that synthetic examples improved detection without significant trade-offs."
   ]
  },
  {
   "cell_type": "markdown",
   "id": "db128d64",
   "metadata": {},
   "source": [
    "## Random Forest\n"
   ]
  },
  {
   "cell_type": "markdown",
   "id": "d2d8297f",
   "metadata": {},
   "source": [
    "Hyperparameter Tuning"
   ]
  },
  {
   "cell_type": "code",
   "execution_count": null,
   "id": "73a08ec5",
   "metadata": {},
   "outputs": [],
   "source": [
    "rf_model = RandomForestClassifier(random_state=42)\n",
    "\n",
    "# Define hyperparameter grid\n",
    "param_dist = {\n",
    "    'n_estimators': [100, 200, 300, 400],   # Number of trees\n",
    "    'max_depth': [10, 20, None],            # Depth of trees\n",
    "    'min_samples_split': [2, 5, 10],        # Min samples to split\n",
    "    'min_samples_leaf': [1, 2, 4],          # Min samples per leaf\n",
    "    'bootstrap': [True, False]              # sampling method\n",
    "}\n",
    "\n",
    "# Grid Search (optimize for F1 since it balances precision/recall)\n",
    "random_search_rf = RandomizedSearchCV(\n",
    "    estimator=rf_model,\n",
    "    param_distributions=param_dist,\n",
    "    n_iter=20,               # Only test 15 random combinations\n",
    "    scoring='f1',            # Optimize for F1 score\n",
    "    cv=3,                    # 3-fold cross-validation\n",
    "    random_state=42\n",
    ")\n",
    "\n",
    "\n",
    "# Fit on the Random Oversampling training data (drop 'nameDest' if it exists)\n",
    "random_search_rf.fit(X_train_random_final, y_train_random)\n",
    "\n",
    "# Best hyperparameters\n",
    "print(\"Best Parameters (Random Forest – Random Oversampling):\", random_search_rf.best_params_)\n",
    "best_rf_params = random_search_rf.best_params_"
   ]
  },
  {
   "cell_type": "markdown",
   "id": "128bf2f5",
   "metadata": {},
   "source": [
    "Train Model & Eval"
   ]
  },
  {
   "cell_type": "code",
   "execution_count": null,
   "id": "d9a30df4",
   "metadata": {},
   "outputs": [],
   "source": [
    "# Initialize final Random Forest with best params\n",
    "best_rf_model = RandomForestClassifier(**best_rf_params, random_state=42, n_jobs=-1)\n",
    "\n",
    "# Evaluate on Random Oversampling\n",
    "best_rf_model.fit(X_train_random_final, y_train_random)\n",
    "y_pred_random = best_rf_model.predict(X_test_random_final)\n",
    "\n",
    "# Metrics for Random Oversampling\n",
    "acc_random = accuracy_score(y_test_random, y_pred_random)\n",
    "prec_random = precision_score(y_test_random, y_pred_random)\n",
    "recall_random = recall_score(y_test_random, y_pred_random)\n",
    "f1_random = f1_score(y_test_random, y_pred_random)\n",
    "\n",
    "print(\"--- Random Forest (Random Oversampling) ---\")\n",
    "print(f\"Accuracy: {acc_random:.4f}\")\n",
    "print(f\"Precision: {prec_random:.4f}\")\n",
    "print(f\"Recall: {recall_random:.4f}\")\n",
    "print(f\"F1 Score: {f1_random:.4f}\")\n",
    "\n",
    "cm_random = confusion_matrix(y_test_random, y_pred_random)\n",
    "ConfusionMatrixDisplay(confusion_matrix=cm_random, display_labels=['Not Fraud', 'Fraud']).plot(cmap='Blues')\n",
    "plt.title(\"Random Forest – Random Oversampling\")\n",
    "plt.show()\n",
    "\n",
    "# Evaluate on SMOTE (using same best params) \n",
    "best_rf_model.fit(X_train_smote_final, y_train_smote)\n",
    "y_pred_smote = best_rf_model.predict(X_test_smote_final)\n",
    "\n",
    "acc_smote = accuracy_score(y_test_smote, y_pred_smote)\n",
    "prec_smote = precision_score(y_test_smote, y_pred_smote)\n",
    "recall_smote = recall_score(y_test_smote, y_pred_smote)\n",
    "f1_smote = f1_score(y_test_smote, y_pred_smote)\n",
    "\n",
    "print(\"\\n--- Random Forest (SMOTE Oversampling) ---\")\n",
    "print(f\"Accuracy: {acc_smote:.4f}\")\n",
    "print(f\"Precision: {prec_smote:.4f}\")\n",
    "print(f\"Recall: {recall_smote:.4f}\")\n",
    "print(f\"F1 Score: {f1_smote:.4f}\")\n",
    "\n",
    "cm_smote = confusion_matrix(y_test_smote, y_pred_smote)\n",
    "ConfusionMatrixDisplay(confusion_matrix=cm_smote, display_labels=['Not Fraud', 'Fraud']).plot(cmap='Blues')\n",
    "plt.title(\"Random Forest – SMOTE Oversampling\")\n",
    "plt.show()\n"
   ]
  },
  {
   "cell_type": "markdown",
   "id": "4e66c411",
   "metadata": {},
   "source": [
    "### (Bonus) Gradient Boosting "
   ]
  },
  {
   "cell_type": "markdown",
   "id": "e4d63c11",
   "metadata": {},
   "source": [
    "Hyperparameter Tuning"
   ]
  },
  {
   "cell_type": "code",
   "execution_count": null,
   "id": "6022b476",
   "metadata": {},
   "outputs": [],
   "source": [
    "# Define Gradient Boosting model\n",
    "gb_model = GradientBoostingClassifier(random_state=42)\n",
    "\n",
    "# Parameter distributions (kept small for speed)\n",
    "param_dist_gb = {\n",
    "    'n_estimators': [100, 200, 300],        # number of boosting stages\n",
    "    'learning_rate': [0.01, 0.05, 0.1, 0.2], # learning rate\n",
    "    'max_depth': [3, 5, 7],                 # tree depth\n",
    "    'subsample': [0.8, 1.0],                # fraction of samples per tree\n",
    "    'min_samples_split': [2, 5, 10],        # node split minimum\n",
    "    'min_samples_leaf': [1, 2, 4]           # minimum samples per leaf\n",
    "}\n",
    "\n",
    "# RandomizedSearchCV for Gradient Boosting (20 combos)\n",
    "random_search_gb = RandomizedSearchCV(\n",
    "    estimator=gb_model,\n",
    "    param_distributions=param_dist_gb,\n",
    "    n_iter=20,\n",
    "    scoring='f1',          # optimize for F1\n",
    "    cv=3,\n",
    "    random_state=42,\n",
    ")\n",
    "\n",
    "# Fit only on the Random Oversampling dataset\n",
    "random_search_gb.fit(X_train_random_final, y_train_random)\n",
    "\n",
    "# Display best parameters\n",
    "print(\"Best Parameters (Gradient Boosting – Random Oversampling):\", random_search_gb.best_params_)\n",
    "best_gb_params = random_search_gb.best_params_"
   ]
  },
  {
   "cell_type": "markdown",
   "id": "e65c6fba",
   "metadata": {},
   "source": [
    "Train Model & Eval"
   ]
  },
  {
   "cell_type": "code",
   "execution_count": null,
   "id": "0ad5daa3",
   "metadata": {},
   "outputs": [],
   "source": [
    "# Build Gradient Boosting model with the tuned parameters\n",
    "best_gb_model = GradientBoostingClassifier(**best_gb_params, random_state=42)\n",
    "\n",
    "# Train & Evaluate on Random Oversampling \n",
    "best_gb_model.fit(X_train_random_final, y_train_random)\n",
    "y_pred_random_gb = best_gb_model.predict(X_test_random_final)\n",
    "\n",
    "accuracy_random = accuracy_score(y_test_random, y_pred_random_gb)\n",
    "precision_random = precision_score(y_test_random, y_pred_random_gb)\n",
    "recall_random = recall_score(y_test_random, y_pred_random_gb)\n",
    "f1_random = f1_score(y_test_random, y_pred_random_gb)\n",
    "\n",
    "print(\"--- Gradient Boosting (Random Oversampling) ---\")\n",
    "print(f\"Accuracy: {accuracy_random:.4f}\")\n",
    "print(f\"Precision: {precision_random:.4f}\")\n",
    "print(f\"Recall: {recall_random:.4f}\")\n",
    "print(f\"F1 Score: {f1_random:.4f}\")\n",
    "\n",
    "cm_random = confusion_matrix(y_test_random, y_pred_random_gb)\n",
    "ConfusionMatrixDisplay(confusion_matrix=cm_random, display_labels=['Not Fraud', 'Fraud']).plot(cmap='Blues', values_format='d')\n",
    "\n",
    "\n",
    "# Train & Evaluate on SMOTE Oversampling \n",
    "best_gb_model.fit(X_train_smote_final, y_train_smote)\n",
    "y_pred_smote_gb = best_gb_model.predict(X_test_smote_final)\n",
    "\n",
    "accuracy_smote = accuracy_score(y_test_smote, y_pred_smote_gb)\n",
    "precision_smote = precision_score(y_test_smote, y_pred_smote_gb)\n",
    "recall_smote = recall_score(y_test_smote, y_pred_smote_gb)\n",
    "f1_smote = f1_score(y_test_smote, y_pred_smote_gb)\n",
    "\n",
    "print(\"\\n--- Gradient Boosting (SMOTE Oversampling) ---\")\n",
    "print(f\"Accuracy: {accuracy_smote:.4f}\")\n",
    "print(f\"Precision: {precision_smote:.4f}\")\n",
    "print(f\"Recall: {recall_smote:.4f}\")\n",
    "print(f\"F1 Score: {f1_smote:.4f}\")\n",
    "\n",
    "cm_smote = confusion_matrix(y_test_smote, y_pred_smote_gb)\n",
    "ConfusionMatrixDisplay(confusion_matrix=cm_smote, display_labels=['Not Fraud', 'Fraud']).plot(cmap='Blues', values_format='d')\n"
   ]
  }
 ],
 "metadata": {
  "kernelspec": {
   "display_name": "ds",
   "language": "python",
   "name": "python3"
  },
  "language_info": {
   "codemirror_mode": {
    "name": "ipython",
    "version": 3
   },
   "file_extension": ".py",
   "mimetype": "text/x-python",
   "name": "python",
   "nbconvert_exporter": "python",
   "pygments_lexer": "ipython3",
   "version": "3.12.9"
  }
 },
 "nbformat": 4,
 "nbformat_minor": 5
}
